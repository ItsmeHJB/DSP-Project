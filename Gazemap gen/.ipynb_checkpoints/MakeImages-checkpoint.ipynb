{
 "cells": [
  {
   "cell_type": "code",
   "execution_count": 1,
   "metadata": {
    "collapsed": true
   },
   "outputs": [],
   "source": [
    "import pandas as pd\n",
    "import numpy as np\n",
    "from matplotlib import pyplot as plt\n",
    "from matplotlib import collections  as mc\n",
    "from matplotlib import markers as mark\n",
    "import matplotlib.image as mpimg\n",
    "from matplotlib import patches as patch\n",
    "from matplotlib.collections import PatchCollection\n",
    "%matplotlib inline"
   ]
  },
  {
   "cell_type": "code",
   "execution_count": 2,
   "metadata": {},
   "outputs": [
    {
     "data": {
      "text/html": [
       "<div>\n",
       "<table border=\"1\" class=\"dataframe\">\n",
       "  <thead>\n",
       "    <tr style=\"text-align: right;\">\n",
       "      <th></th>\n",
       "      <th>File</th>\n",
       "      <th>AOIName</th>\n",
       "      <th>StartTime</th>\n",
       "      <th>Duration</th>\n",
       "      <th>StopTime</th>\n",
       "      <th>InterfixDur</th>\n",
       "      <th>HorzPos</th>\n",
       "      <th>VertPos</th>\n",
       "      <th>PupilDiam</th>\n",
       "      <th>XDAT</th>\n",
       "      <th>AOI</th>\n",
       "    </tr>\n",
       "  </thead>\n",
       "  <tbody>\n",
       "    <tr>\n",
       "      <th>0</th>\n",
       "      <td>01_WASI_DG</td>\n",
       "      <td>Stim1</td>\n",
       "      <td>0.000</td>\n",
       "      <td>0.498753</td>\n",
       "      <td>0.300</td>\n",
       "      <td>0.000000</td>\n",
       "      <td>130.837</td>\n",
       "      <td>49.468</td>\n",
       "      <td>0.110932</td>\n",
       "      <td>130</td>\n",
       "      <td>6</td>\n",
       "    </tr>\n",
       "    <tr>\n",
       "      <th>1</th>\n",
       "      <td>01_WASI_DG</td>\n",
       "      <td>Stim4</td>\n",
       "      <td>0.000</td>\n",
       "      <td>0.498753</td>\n",
       "      <td>0.300</td>\n",
       "      <td>0.000000</td>\n",
       "      <td>130.837</td>\n",
       "      <td>49.468</td>\n",
       "      <td>0.110932</td>\n",
       "      <td>130</td>\n",
       "      <td>9</td>\n",
       "    </tr>\n",
       "    <tr>\n",
       "      <th>2</th>\n",
       "      <td>01_WASI_DG</td>\n",
       "      <td>Stim2</td>\n",
       "      <td>0.367</td>\n",
       "      <td>0.291771</td>\n",
       "      <td>0.584</td>\n",
       "      <td>0.148875</td>\n",
       "      <td>139.893</td>\n",
       "      <td>111.393</td>\n",
       "      <td>0.137179</td>\n",
       "      <td>130</td>\n",
       "      <td>7</td>\n",
       "    </tr>\n",
       "    <tr>\n",
       "      <th>3</th>\n",
       "      <td>01_WASI_DG</td>\n",
       "      <td>Stim1</td>\n",
       "      <td>0.634</td>\n",
       "      <td>0.458853</td>\n",
       "      <td>0.918</td>\n",
       "      <td>0.111101</td>\n",
       "      <td>146.750</td>\n",
       "      <td>70.956</td>\n",
       "      <td>0.140867</td>\n",
       "      <td>130</td>\n",
       "      <td>6</td>\n",
       "    </tr>\n",
       "    <tr>\n",
       "      <th>4</th>\n",
       "      <td>01_WASI_DG</td>\n",
       "      <td>Stim3</td>\n",
       "      <td>0.984</td>\n",
       "      <td>0.000000</td>\n",
       "      <td>1.084</td>\n",
       "      <td>0.148875</td>\n",
       "      <td>117.986</td>\n",
       "      <td>83.914</td>\n",
       "      <td>0.180650</td>\n",
       "      <td>130</td>\n",
       "      <td>8</td>\n",
       "    </tr>\n",
       "  </tbody>\n",
       "</table>\n",
       "</div>"
      ],
      "text/plain": [
       "         File AOIName  StartTime  Duration  StopTime  InterfixDur  HorzPos  \\\n",
       "0  01_WASI_DG   Stim1      0.000  0.498753     0.300     0.000000  130.837   \n",
       "1  01_WASI_DG   Stim4      0.000  0.498753     0.300     0.000000  130.837   \n",
       "2  01_WASI_DG   Stim2      0.367  0.291771     0.584     0.148875  139.893   \n",
       "3  01_WASI_DG   Stim1      0.634  0.458853     0.918     0.111101  146.750   \n",
       "4  01_WASI_DG   Stim3      0.984  0.000000     1.084     0.148875  117.986   \n",
       "\n",
       "   VertPos  PupilDiam  XDAT  AOI  \n",
       "0   49.468   0.110932   130    6  \n",
       "1   49.468   0.110932   130    9  \n",
       "2  111.393   0.137179   130    7  \n",
       "3   70.956   0.140867   130    6  \n",
       "4   83.914   0.180650   130    8  "
      ]
     },
     "execution_count": 2,
     "metadata": {},
     "output_type": "execute_result"
    }
   ],
   "source": [
    "fix_data = pd.read_csv('DataTidy/FixData5ClassAdjustedOutliersNormalized.csv')\n",
    "fix_data.head()"
   ]
  },
  {
   "cell_type": "code",
   "execution_count": 3,
   "metadata": {},
   "outputs": [
    {
     "data": {
      "text/html": [
       "<div>\n",
       "<table border=\"1\" class=\"dataframe\">\n",
       "  <thead>\n",
       "    <tr style=\"text-align: right;\">\n",
       "      <th></th>\n",
       "      <th>Subject</th>\n",
       "      <th>Correct</th>\n",
       "      <th>TimeTaken</th>\n",
       "      <th>XDAT</th>\n",
       "      <th>Confidence</th>\n",
       "    </tr>\n",
       "  </thead>\n",
       "  <tbody>\n",
       "    <tr>\n",
       "      <th>578</th>\n",
       "      <td>23_WASI_HM</td>\n",
       "      <td>0.0</td>\n",
       "      <td>11574.44</td>\n",
       "      <td>153.0</td>\n",
       "      <td>2.0</td>\n",
       "    </tr>\n",
       "    <tr>\n",
       "      <th>579</th>\n",
       "      <td>23_WASI_HM</td>\n",
       "      <td>0.0</td>\n",
       "      <td>8249.24</td>\n",
       "      <td>154.0</td>\n",
       "      <td>3.0</td>\n",
       "    </tr>\n",
       "    <tr>\n",
       "      <th>580</th>\n",
       "      <td>23_WASI_HM</td>\n",
       "      <td>0.0</td>\n",
       "      <td>9567.27</td>\n",
       "      <td>155.0</td>\n",
       "      <td>2.0</td>\n",
       "    </tr>\n",
       "    <tr>\n",
       "      <th>581</th>\n",
       "      <td>23_WASI_HM</td>\n",
       "      <td>0.0</td>\n",
       "      <td>10358.39</td>\n",
       "      <td>156.0</td>\n",
       "      <td>2.0</td>\n",
       "    </tr>\n",
       "    <tr>\n",
       "      <th>582</th>\n",
       "      <td>23_WASI_HM</td>\n",
       "      <td>0.0</td>\n",
       "      <td>9874.37</td>\n",
       "      <td>157.0</td>\n",
       "      <td>1.0</td>\n",
       "    </tr>\n",
       "  </tbody>\n",
       "</table>\n",
       "</div>"
      ],
      "text/plain": [
       "        Subject  Correct  TimeTaken   XDAT  Confidence\n",
       "578  23_WASI_HM      0.0   11574.44  153.0         2.0\n",
       "579  23_WASI_HM      0.0    8249.24  154.0         3.0\n",
       "580  23_WASI_HM      0.0    9567.27  155.0         2.0\n",
       "581  23_WASI_HM      0.0   10358.39  156.0         2.0\n",
       "582  23_WASI_HM      0.0    9874.37  157.0         1.0"
      ]
     },
     "execution_count": 3,
     "metadata": {},
     "output_type": "execute_result"
    }
   ],
   "source": [
    "summary_data = pd.read_csv('DataTidy/SummaryData5ClassAdjustedOutliersNormalized.csv')\n",
    "summary_data.tail()"
   ]
  },
  {
   "cell_type": "code",
   "execution_count": 4,
   "metadata": {},
   "outputs": [
    {
     "data": {
      "text/html": [
       "<div>\n",
       "<table border=\"1\" class=\"dataframe\">\n",
       "  <thead>\n",
       "    <tr style=\"text-align: right;\">\n",
       "      <th></th>\n",
       "      <th>XDAT</th>\n",
       "      <th>CorrectResponse</th>\n",
       "    </tr>\n",
       "  </thead>\n",
       "  <tbody>\n",
       "    <tr>\n",
       "      <th>0</th>\n",
       "      <td>130</td>\n",
       "      <td>3</td>\n",
       "    </tr>\n",
       "    <tr>\n",
       "      <th>1</th>\n",
       "      <td>131</td>\n",
       "      <td>5</td>\n",
       "    </tr>\n",
       "    <tr>\n",
       "      <th>2</th>\n",
       "      <td>132</td>\n",
       "      <td>5</td>\n",
       "    </tr>\n",
       "    <tr>\n",
       "      <th>3</th>\n",
       "      <td>133</td>\n",
       "      <td>5</td>\n",
       "    </tr>\n",
       "    <tr>\n",
       "      <th>4</th>\n",
       "      <td>134</td>\n",
       "      <td>2</td>\n",
       "    </tr>\n",
       "  </tbody>\n",
       "</table>\n",
       "</div>"
      ],
      "text/plain": [
       "   XDAT  CorrectResponse\n",
       "0   130                3\n",
       "1   131                5\n",
       "2   132                5\n",
       "3   133                5\n",
       "4   134                2"
      ]
     },
     "execution_count": 4,
     "metadata": {},
     "output_type": "execute_result"
    }
   ],
   "source": [
    "correct_responses = pd.read_csv('RawData/CorrectResponses.csv')\n",
    "correct_responses.head()"
   ]
  },
  {
   "cell_type": "code",
   "execution_count": 5,
   "metadata": {},
   "outputs": [
    {
     "data": {
      "text/plain": [
       "array(['Stim1', 'Stim4', 'Stim2', 'Stim3', 'Op2', 'Op3', 'Op5', 'OUTSIDE',\n",
       "       'Op4', 'Op1', 'StimAll', 'Stim5', 'Stim6', 'StimC', 'Stim8', 'Stim7'], dtype=object)"
      ]
     },
     "execution_count": 5,
     "metadata": {},
     "output_type": "execute_result"
    }
   ],
   "source": [
    "#we will use the area names instead of numbers as the numbers dont match up sometimes\n",
    "fix_data.AOIName.unique()"
   ]
  },
  {
   "cell_type": "code",
   "execution_count": 8,
   "metadata": {},
   "outputs": [
    {
     "data": {
      "image/png": "[encoded data removed]",
      "text/plain": [
       "<matplotlib.figure.Figure at 0x7fd3d7ef2cc0>"
      ]
     },
     "metadata": {},
     "output_type": "display_data"
    }
   ],
   "source": [
    "'''\n",
    "plot for 1 trial so we see what it looks like\n",
    "'''\n",
    "user_id = '01_WASI_DG'\n",
    "xdat = 130\n",
    "\n",
    "x = fix_data.HorzPos[(fix_data.File == user_id)&(fix_data.XDAT == xdat)].values\n",
    "y = fix_data.VertPos[(fix_data.File == user_id)&(fix_data.XDAT == xdat)].values\n",
    "duration = fix_data.Duration[(fix_data.File == user_id)&(fix_data.XDAT == xdat)].values\n",
    "inter_fix = fix_data.InterfixDur[(fix_data.File == user_id)&(fix_data.XDAT == xdat)].values\n",
    "pupil = fix_data.PupilDiam[(fix_data.File == user_id)&(fix_data.XDAT == xdat)].values\n",
    "aoi = fix_data.AOI[(fix_data.File == user_id)&(fix_data.XDAT == xdat)].values\n",
    "aoi_name  = fix_data.AOIName[(fix_data.File == user_id)&(fix_data.XDAT == xdat)].values\n",
    "\n",
    "correct_op = correct_responses.CorrectResponse[correct_responses.XDAT == xdat].values[0]\n",
    "\n",
    "sizes = (duration+0.1)*80\n",
    "mark_colors = []\n",
    "line_colors = []\n",
    "line_widths = []\n",
    "lines = []\n",
    "#set a different marker based on what the user is looking at\n",
    "markers = []\n",
    "for i in range(len(aoi)):\n",
    "    if (aoi[i] == correct_op) and ('Op' in aoi_name[i]):\n",
    "        markers.append('*')\n",
    "    elif 'Op' in aoi_name[i]:\n",
    "        markers.append('o')\n",
    "    elif 'Stim' in aoi_name[i]:\n",
    "        markers.append('s')\n",
    "    else:\n",
    "        markers.append('x')\n",
    "    #shades of red for markers, based on pupil diam\n",
    "    mark_colors.append((1-pupil[i],0,0))\n",
    "    line_widths.append((inter_fix[i]+0.1)*6)\n",
    "    if i < len(aoi)-1:\n",
    "        lines.append([(x[i],y[i]),(x[i+1],y[i+1])])\n",
    "        if ('Op' in aoi_name[i]) and ('Stim' in aoi_name[i+1]):\n",
    "            line_colors.append('b')\n",
    "        elif ('Stim' in aoi_name[i]) and ('Op' in aoi_name[i+1]):\n",
    "            line_colors.append('c')\n",
    "        elif ('OUT' in aoi_name[i]) or ('OUT' in aoi_name[i+1]):\n",
    "            line_colors.append('k')\n",
    "        else:\n",
    "            line_colors.append('g')\n",
    "\n",
    "fig,ax = plt.subplots(figsize = (10.0,10.0))\n",
    "\n",
    "for i in range(len(aoi)):\n",
    "    ax.scatter(x[i],y[i],facecolors = mark_colors[i], s = sizes[i],\n",
    "            marker = markers[i], alpha = None)#0.5)\n",
    "lc = mc.LineCollection(lines, colors=line_colors, linewidths=line_widths,alpha = None)#0.5)\n",
    "ax.add_collection(lc)\n",
    "ax.set_xlim([0,258])\n",
    "ax.set_ylim([254,0])\n",
    "ax.axis('off')\n",
    "plt.show()\n",
    "fig.savefig('Example'+user_id+'_'+ str(xdat)+ '.png')    "
   ]
  },
  {
   "cell_type": "code",
   "execution_count": 11,
   "metadata": {},
   "outputs": [
    {
     "data": {
      "image/png": "[encoded data removed]",
      "text/plain": [
       "<matplotlib.figure.Figure at 0x7fd3d73bb0b8>"
      ]
     },
     "metadata": {},
     "output_type": "display_data"
    },
    {
     "ename": "ValueError",
     "evalue": "Format \"gif\" is not supported.\nSupported formats: eps, jpeg, jpg, pdf, pgf, png, ps, raw, rgba, svg, svgz, tif, tiff.",
     "output_type": "error",
     "traceback": [
      "\u001b[0;31m---------------------------------------------------------------------------\u001b[0m",
      "\u001b[0;31mValueError\u001b[0m                                Traceback (most recent call last)",
      "\u001b[0;32m<ipython-input-11-c32bb422c283>\u001b[0m in \u001b[0;36m<module>\u001b[0;34m()\u001b[0m\n\u001b[1;32m     53\u001b[0m         \u001b[0max\u001b[0m\u001b[0;34m.\u001b[0m\u001b[0maxis\u001b[0m\u001b[0;34m(\u001b[0m\u001b[0;34m'off'\u001b[0m\u001b[0;34m)\u001b[0m\u001b[0;34m\u001b[0m\u001b[0m\n\u001b[1;32m     54\u001b[0m         \u001b[0mplt\u001b[0m\u001b[0;34m.\u001b[0m\u001b[0mshow\u001b[0m\u001b[0;34m(\u001b[0m\u001b[0;34m)\u001b[0m\u001b[0;34m\u001b[0m\u001b[0m\n\u001b[0;32m---> 55\u001b[0;31m         \u001b[0mfig\u001b[0m\u001b[0;34m.\u001b[0m\u001b[0msavefig\u001b[0m\u001b[0;34m(\u001b[0m\u001b[0;34m'NewImages/All'\u001b[0m\u001b[0;34m+\u001b[0m\u001b[0muser_id\u001b[0m\u001b[0;34m+\u001b[0m\u001b[0;34m'_'\u001b[0m\u001b[0;34m+\u001b[0m \u001b[0mstr\u001b[0m\u001b[0;34m(\u001b[0m\u001b[0mxdat\u001b[0m\u001b[0;34m)\u001b[0m\u001b[0;34m+\u001b[0m \u001b[0;34m'.gif'\u001b[0m\u001b[0;34m)\u001b[0m\u001b[0;34m\u001b[0m\u001b[0m\n\u001b[0m\u001b[1;32m     56\u001b[0m         \u001b[0mplt\u001b[0m\u001b[0;34m.\u001b[0m\u001b[0mclose\u001b[0m\u001b[0;34m(\u001b[0m\u001b[0;34m'all'\u001b[0m\u001b[0;34m)\u001b[0m\u001b[0;34m\u001b[0m\u001b[0m\n",
      "\u001b[0;32m/usr/local/lib/python3.5/dist-packages/matplotlib/figure.py\u001b[0m in \u001b[0;36msavefig\u001b[0;34m(self, *args, **kwargs)\u001b[0m\n\u001b[1;32m   1570\u001b[0m             \u001b[0mself\u001b[0m\u001b[0;34m.\u001b[0m\u001b[0mset_frameon\u001b[0m\u001b[0;34m(\u001b[0m\u001b[0mframeon\u001b[0m\u001b[0;34m)\u001b[0m\u001b[0;34m\u001b[0m\u001b[0m\n\u001b[1;32m   1571\u001b[0m \u001b[0;34m\u001b[0m\u001b[0m\n\u001b[0;32m-> 1572\u001b[0;31m         \u001b[0mself\u001b[0m\u001b[0;34m.\u001b[0m\u001b[0mcanvas\u001b[0m\u001b[0;34m.\u001b[0m\u001b[0mprint_figure\u001b[0m\u001b[0;34m(\u001b[0m\u001b[0;34m*\u001b[0m\u001b[0margs\u001b[0m\u001b[0;34m,\u001b[0m \u001b[0;34m**\u001b[0m\u001b[0mkwargs\u001b[0m\u001b[0;34m)\u001b[0m\u001b[0;34m\u001b[0m\u001b[0m\n\u001b[0m\u001b[1;32m   1573\u001b[0m \u001b[0;34m\u001b[0m\u001b[0m\n\u001b[1;32m   1574\u001b[0m         \u001b[0;32mif\u001b[0m \u001b[0mframeon\u001b[0m\u001b[0;34m:\u001b[0m\u001b[0;34m\u001b[0m\u001b[0m\n",
      "\u001b[0;32m/usr/local/lib/python3.5/dist-packages/matplotlib/backend_bases.py\u001b[0m in \u001b[0;36mprint_figure\u001b[0;34m(self, filename, dpi, facecolor, edgecolor, orientation, format, **kwargs)\u001b[0m\n\u001b[1;32m   2143\u001b[0m \u001b[0;34m\u001b[0m\u001b[0m\n\u001b[1;32m   2144\u001b[0m         \u001b[0;31m# get canvas object and print method for format\u001b[0m\u001b[0;34m\u001b[0m\u001b[0;34m\u001b[0m\u001b[0m\n\u001b[0;32m-> 2145\u001b[0;31m         \u001b[0mcanvas\u001b[0m \u001b[0;34m=\u001b[0m \u001b[0mself\u001b[0m\u001b[0;34m.\u001b[0m\u001b[0m_get_output_canvas\u001b[0m\u001b[0;34m(\u001b[0m\u001b[0mformat\u001b[0m\u001b[0;34m)\u001b[0m\u001b[0;34m\u001b[0m\u001b[0m\n\u001b[0m\u001b[1;32m   2146\u001b[0m         \u001b[0mprint_method\u001b[0m \u001b[0;34m=\u001b[0m \u001b[0mgetattr\u001b[0m\u001b[0;34m(\u001b[0m\u001b[0mcanvas\u001b[0m\u001b[0;34m,\u001b[0m \u001b[0;34m'print_%s'\u001b[0m \u001b[0;34m%\u001b[0m \u001b[0mformat\u001b[0m\u001b[0;34m)\u001b[0m\u001b[0;34m\u001b[0m\u001b[0m\n\u001b[1;32m   2147\u001b[0m \u001b[0;34m\u001b[0m\u001b[0m\n",
      "\u001b[0;32m/usr/local/lib/python3.5/dist-packages/matplotlib/backend_bases.py\u001b[0m in \u001b[0;36m_get_output_canvas\u001b[0;34m(self, format)\u001b[0m\n\u001b[1;32m   2083\u001b[0m         raise ValueError('Format \"%s\" is not supported.\\n'\n\u001b[1;32m   2084\u001b[0m                          \u001b[0;34m'Supported formats: '\u001b[0m\u001b[0;34m\u001b[0m\u001b[0m\n\u001b[0;32m-> 2085\u001b[0;31m                          '%s.' % (format, ', '.join(formats)))\n\u001b[0m\u001b[1;32m   2086\u001b[0m \u001b[0;34m\u001b[0m\u001b[0m\n\u001b[1;32m   2087\u001b[0m     def print_figure(self, filename, dpi=None, facecolor=None, edgecolor=None,\n",
      "\u001b[0;31mValueError\u001b[0m: Format \"gif\" is not supported.\nSupported formats: eps, jpeg, jpg, pdf, pgf, png, ps, raw, rgba, svg, svgz, tif, tiff."
     ]
    }
   ],
   "source": [
    "'''Added by Jim to make Cleaner copies of all the raw images'''\n",
    "for user_id in sorted(summary_data.Subject.unique()):\n",
    "    for xdat in sorted(summary_data.XDAT[(summary_data.Subject == user_id)]):\n",
    "        x = fix_data.HorzPos[(fix_data.File == user_id)&(fix_data.XDAT == xdat)].values\n",
    "        y = fix_data.VertPos[(fix_data.File == user_id)&(fix_data.XDAT == xdat)].values\n",
    "        duration = fix_data.Duration[(fix_data.File == user_id)&(fix_data.XDAT == xdat)].values\n",
    "        inter_fix = fix_data.InterfixDur[(fix_data.File == user_id)&(fix_data.XDAT == xdat)].values\n",
    "        pupil = fix_data.PupilDiam[(fix_data.File == user_id)&(fix_data.XDAT == xdat)].values\n",
    "        aoi = fix_data.AOI[(fix_data.File == user_id)&(fix_data.XDAT == xdat)].values\n",
    "        aoi_name  = fix_data.AOIName[(fix_data.File == user_id)&(fix_data.XDAT == xdat)].values\n",
    "\n",
    "        correct_op = correct_responses.CorrectResponse[correct_responses.XDAT == xdat].values[0]\n",
    "\n",
    "        sizes = (duration+0.1)*80\n",
    "        mark_colors = []\n",
    "        line_colors = []\n",
    "        line_widths = []\n",
    "        lines = []\n",
    "        #set a different marker based on what the user is looking at\n",
    "        markers = []\n",
    "        for i in range(len(aoi)):\n",
    "            if (aoi[i] == correct_op) and ('Op' in aoi_name[i]):\n",
    "                markers.append('*')\n",
    "            elif 'Op' in aoi_name[i]:\n",
    "                markers.append('o')\n",
    "            elif 'Stim' in aoi_name[i]:\n",
    "                markers.append('s')\n",
    "            else:\n",
    "                markers.append('x')\n",
    "            #shades of red for markers, based on pupil diam\n",
    "            mark_colors.append((1-pupil[i],0,0))\n",
    "            line_widths.append((inter_fix[i]+0.1)*6)\n",
    "            if i < len(aoi)-1:\n",
    "                lines.append([(x[i],y[i]),(x[i+1],y[i+1])])\n",
    "                if ('Op' in aoi_name[i]) and ('Stim' in aoi_name[i+1]):\n",
    "                    line_colors.append('b')\n",
    "                elif ('Stim' in aoi_name[i]) and ('Op' in aoi_name[i+1]):\n",
    "                    line_colors.append('c')\n",
    "                elif ('OUT' in aoi_name[i]) or ('OUT' in aoi_name[i+1]):\n",
    "                    line_colors.append('k')\n",
    "                else:\n",
    "                    line_colors.append('g')\n",
    "\n",
    "        fig,ax = plt.subplots(figsize = (10.0,10.0))\n",
    "\n",
    "        for i in range(len(aoi)):\n",
    "            ax.scatter(x[i],y[i],facecolors = mark_colors[i], s = sizes[i],\n",
    "                    marker = markers[i], alpha = None)#0.5)\n",
    "        lc = mc.LineCollection(lines, colors=line_colors, linewidths=line_widths,alpha = None)#0.5)\n",
    "        ax.add_collection(lc)\n",
    "        ax.set_xlim([0,258])\n",
    "        ax.set_ylim([254,0])\n",
    "        ax.axis('off')\n",
    "        plt.show()\n",
    "        fig.savefig('NewImages/'+user_id+'_'+ str(xdat)+ '.png') \n",
    "        plt.close('all')"
   ]
  },
  {
   "cell_type": "code",
   "execution_count": 7,
   "metadata": {
    "collapsed": true
   },
   "outputs": [],
   "source": [
    "#for 256x256 use *80 dor marker sizes, for 128x128 use *30"
   ]
  },
  {
   "cell_type": "code",
   "execution_count": 8,
   "metadata": {},
   "outputs": [
    {
     "name": "stderr",
     "output_type": "stream",
     "text": [
      "/opt/anaconda3/envs/tensorflow/lib/python3.5/site-packages/ipykernel/__main__.py:3: SettingWithCopyWarning: \n",
      "A value is trying to be set on a copy of a slice from a DataFrame\n",
      "\n",
      "See the caveats in the documentation: http://pandas.pydata.org/pandas-docs/stable/indexing.html#indexing-view-versus-copy\n",
      "  app.launch_new_instance()\n"
     ]
    }
   ],
   "source": [
    "#add a column to summary data just so we can separate the training set - because we only want to make copies of training\n",
    "summary_data['Training'] = [1]*len(summary_data)\n",
    "summary_data.Training[500:583] = 0"
   ]
  },
  {
   "cell_type": "code",
   "execution_count": 10,
   "metadata": {
    "collapsed": true
   },
   "outputs": [],
   "source": [
    "for user_id in sorted(summary_data.Subject.unique()):\n",
    "    for xdat in sorted(summary_data.XDAT[(summary_data.Subject == user_id)]):#&(summary_data.Training == 1)]):\n",
    "        x = fix_data.HorzPos[(fix_data.File == user_id)&(fix_data.XDAT == xdat)].values\n",
    "        y = fix_data.VertPos[(fix_data.File == user_id)&(fix_data.XDAT == xdat)].values\n",
    "        duration = fix_data.Duration[(fix_data.File == user_id)&(fix_data.XDAT == xdat)].values\n",
    "        inter_fix = fix_data.InterfixDur[(fix_data.File == user_id)&(fix_data.XDAT == xdat)].values\n",
    "        pupil = fix_data.PupilDiam[(fix_data.File == user_id)&(fix_data.XDAT == xdat)].values\n",
    "        aoi = fix_data.AOI[(fix_data.File == user_id)&(fix_data.XDAT == xdat)].values\n",
    "        aoi_name  = fix_data.AOIName[(fix_data.File == user_id)&(fix_data.XDAT == xdat)].values\n",
    "\n",
    "        correct_op = correct_responses.CorrectResponse[correct_responses.XDAT == xdat].values[0]\n",
    "        #generate mirror image plots by adjusting x and y\n",
    "        '''\n",
    "        midX = x.min() + (x.max() - x.min())/2\n",
    "        midY = y.min() + (y.max() - y.min())/2\n",
    "        for i in range(len(x)):\n",
    "            x[i] = midX - (x[i]-midX) \n",
    "            y[i] = midY - (y[i] - midY)\n",
    "        '''\n",
    "        #add random numbers from gaussian distribution to x and y for generating more plots\n",
    "        \n",
    "        x = np.add(x,np.random.normal(0,10,len(x)))\n",
    "        y = np.add(y,np.random.normal(0,10,len(y)))\n",
    "        \n",
    "        sizes = (duration+0.1)*80\n",
    "        mark_colors = []\n",
    "        line_colors = []\n",
    "        line_widths = []\n",
    "        lines = []\n",
    "        #set a different marker based on what the user is looking at\n",
    "        markers = []\n",
    "        for i in range(len(aoi)):\n",
    "            if (aoi[i] == correct_op) and ('Op' in aoi_name[i]):\n",
    "                markers.append('*')\n",
    "            elif 'Op' in aoi_name[i]:\n",
    "                markers.append('o')\n",
    "            elif 'Stim' in aoi_name[i]:\n",
    "                markers.append('s')\n",
    "            else:\n",
    "                markers.append('x')\n",
    "            #shades of red for markers, based on pupil diam\n",
    "            mark_colors.append((1-pupil[i],0,0))\n",
    "            line_widths.append((inter_fix[i]+0.1)*6)\n",
    "            if i < len(aoi)-1:\n",
    "                lines.append([(x[i],y[i]),(x[i+1],y[i+1])])\n",
    "                if ('Op' in aoi_name[i]) and ('Stim' in aoi_name[i+1]):\n",
    "                    line_colors.append('b')\n",
    "                elif ('Stim' in aoi_name[i]) and ('Op' in aoi_name[i+1]):\n",
    "                    line_colors.append('c')\n",
    "                elif ('OUT' in aoi_name[i]) or ('OUT' in aoi_name[i+1]):\n",
    "                    line_colors.append('k')\n",
    "                else:\n",
    "                    line_colors.append('g')\n",
    "\n",
    "        fig,ax = plt.subplots(figsize = (2.56,2.56))\n",
    "\n",
    "        for i in range(len(aoi)):\n",
    "            ax.scatter(x[i],y[i],facecolors = mark_colors[i], s = sizes[i],\n",
    "                    marker = markers[i], alpha = 0.5)\n",
    "\n",
    "        lc = mc.LineCollection(lines, colors=line_colors, linewidths=line_widths,alpha = 0.5)\n",
    "        ax.add_collection(lc)\n",
    "        ax.set_xlim([0,258])\n",
    "        ax.set_ylim([254,0])\n",
    "        ax.axis('off')\n",
    "        \n",
    "        if xdat not in [131,135,142,150,155]:\n",
    "        #  fig.savefig('May2017/Test5Class/'+user_id+'_'+ str(xdat)+ '.png')\n",
    "         #else:\n",
    "            fig.savefig('May2017/Training5Class/Noisy'+user_id+'_'+ str(xdat)+ '.png')\n",
    "        #fig.savefig('Plots/NoisyOnly256/Noisy'+user_id+'_'+ str(xdat)+ '.png')\n",
    "        plt.close('all')"
   ]
  },
  {
   "cell_type": "code",
   "execution_count": 13,
   "metadata": {
    "collapsed": true
   },
   "outputs": [],
   "source": []
  },
  {
   "cell_type": "code",
   "execution_count": 16,
   "metadata": {},
   "outputs": [
    {
     "data": {
      "text/plain": [
       "583"
      ]
     },
     "execution_count": 16,
     "metadata": {},
     "output_type": "execute_result"
    }
   ],
   "source": []
  },
  {
   "cell_type": "code",
   "execution_count": null,
   "metadata": {
    "collapsed": true
   },
   "outputs": [],
   "source": []
  }
 ],
 "metadata": {
  "anaconda-cloud": {},
  "kernelspec": {
   "display_name": "Python 3",
   "language": "python",
   "name": "python3"
  },
  "language_info": {
   "codemirror_mode": {
    "name": "ipython",
    "version": 3
   },
   "file_extension": ".py",
   "mimetype": "text/x-python",
   "name": "python",
   "nbconvert_exporter": "python",
   "pygments_lexer": "ipython3",
   "version": "3.5.2"
  }
 },
 "nbformat": 4,
 "nbformat_minor": 1
}
